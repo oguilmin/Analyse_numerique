{
 "cells": [
  {
   "cell_type": "markdown",
   "metadata": {},
   "source": []
  },
  {
   "cell_type": "markdown",
   "metadata": {},
   "source": [
    "# TP 1 : Équation de Transport\n",
    "\n",
    "Le but de ce TP est la résolution numérique par différents\n",
    "schémas aux différences sur grille uniforme de l'équation de\n",
    "transport :\n",
    "\\begin{equation}\n",
    "\\begin{cases}\n",
    "\\frac{\\partial u}{\\partial t} + a \\frac{\\partial u}{\\partial x} = 0\n",
    "\\quad x \\in [-\\pi,\\pi], t\\in I\\!\\!R,\\\\\n",
    "u(x,0)=u_0(x)\\\\\n",
    "u(.,t) \\quad 2\\pi\\text{-périodique}\n",
    "\\end{cases} \\quad \\quad(1)\n",
    "\\end{equation}\n",
    "\n",
    "\n",
    "Pour la suite on fixe $a=1$ et l'intervalle de temps de notre étude\n",
    "$[0,T]$ avec $T=8$. On note $k$ le pas de temps, $n$ l'indice\n",
    "au temps $t_n$, $h$ le pas en espace et $m$ l'indice au point $x_m$.\n",
    "\n",
    "Pour les différents tests on prendra les 2 conditions initiales :\n",
    "\\begin{equation*}\n",
    "u_0^1(x)=\n",
    "\\begin{cases}\n",
    "e^{\\frac{1}{x^2-1}} &\\text{si } |x| < 1\\\\\n",
    "0 &\\text{sinon}\n",
    "\\end{cases}\n",
    "\\quad\\text{et}\\quad\n",
    "u_0^2(x)=\n",
    "\\begin{cases}\n",
    "1-|x| &\\text{si } |x| < 1\\\\\n",
    "0 &\\text{sinon}\n",
    "\\end{cases}\n",
    "\\end{equation*}\n",
    "\n",
    "### Donner les solution exactes du problème (1).\n",
    "Les solutions classiques de l'équation de transport sont les fonctions constantes le long des droites caractéristiques :\n",
    "\\begin{align}\n",
    "    x = at + x_0\n",
    "\\end{align}\n",
    "On a la solution analytique du problème : \n",
    "\\begin{align}\n",
    "    u(x,t) &= u_0(x-at)\\\\\n",
    "    x &\\in [-\\pi,\\pi]\\\\\n",
    "    t &\\in \\mathbb{R}\n",
    "\\end{align}\n",
    "### Implémenter les schémas suivants. \n",
    "\n",
    "Il s'agit\n",
    "de schémas à un pas, il est possible d'utiliser une représentation\n",
    "matricielle commune de la forme $AU_{n+1}=BU_n$, avec $A$ et $B$ matrices et\n",
    "$U_n$ solution discrête au temps $t_n$.\n",
    "\n",
    "Obtenir une animation avec la supperposition de la solution exacte et\n",
    "solution calculée pour chaque cas.\n",
    "\n",
    "Donner l'ordre des schémas, ainsi que les conditions de stabilité. Calculer et représenter le symboles de chaque schéma (voir cours), illustrer vos calcul par des choix judicieux de simulations et de\n",
    "courbes."
   ]
  },
  {
   "cell_type": "code",
   "execution_count": 1,
   "metadata": {
    "collapsed": false
   },
   "outputs": [
    {
     "name": "stdout",
     "output_type": "stream",
     "text": [
      "Created file '/home/olivier.guilmin/u01.m'.\n"
     ]
    }
   ],
   "source": [
    "%%file u01.m\n",
    "function out=u01(x)\n",
    "    % 2-pi périodique\n",
    "    while (x>pi)\n",
    "        x=x-2*pi;\n",
    "    end\n",
    "    while (x<-pi)\n",
    "        x=x+2*pi;\n",
    "    end\n",
    "    \n",
    "    if abs(x)<1\n",
    "         out=exp(1/(x^2-1));\n",
    "    else\n",
    "         out=0;\n",
    "    end\n",
    "end"
   ]
  },
  {
   "cell_type": "code",
   "execution_count": 2,
   "metadata": {
    "collapsed": false
   },
   "outputs": [
    {
     "name": "stdout",
     "output_type": "stream",
     "text": [
      "Created file '/home/olivier.guilmin/u02.m'.\n"
     ]
    }
   ],
   "source": [
    "%%file u02.m\n",
    "function out=u02(x)\n",
    "    % 2\\pi périodic\n",
    "    while x>pi\n",
    "        x=x-2*pi;\n",
    "    end\n",
    "    while x<-pi\n",
    "        x=x+2*pi;\n",
    "    end\n",
    "    \n",
    "    if abs(x)<1\n",
    "         out=1-abs(x);\n",
    "    else\n",
    "         out=0;\n",
    "    end\n",
    "end"
   ]
  },
  {
   "cell_type": "code",
   "execution_count": 3,
   "metadata": {
    "collapsed": true
   },
   "outputs": [],
   "source": [
    "%plot  -s 800,600"
   ]
  },
  {
   "cell_type": "code",
   "execution_count": 4,
   "metadata": {
    "collapsed": false
   },
   "outputs": [
    {
     "data": {
      "text/plain": [
       "1.1000"
      ]
     },
     "execution_count": 4,
     "metadata": {},
     "output_type": "execute_result"
    }
   ],
   "source": [
    "% Paramètres de simulation\n",
    "% espace\n",
    "N=100;\n",
    "h=2*pi/N;\n",
    "x=linspace(-pi,pi,N+1)';\n",
    "% temps\n",
    "M=10;\n",
    "k=1.1*h;\n",
    "disp(k/h)"
   ]
  },
  {
   "cell_type": "code",
   "execution_count": 5,
   "metadata": {
    "collapsed": false
   },
   "outputs": [
    {
     "data": {
      "image/png": "[encoded data removed]",
      "text/plain": [
       "<IPython.core.display.Image object>"
      ]
     },
     "metadata": {},
     "output_type": "display_data"
    },
    {
     "data": {},
     "execution_count": 5,
     "metadata": {},
     "output_type": "execute_result"
    }
   ],
   "source": [
    "% initialisation\n",
    "U0=zeros(N,1);\n",
    "for i=1:N\n",
    "    U0(i)= u01(x(i+1));\n",
    "end\n",
    "plot(x(2:end),U0);"
   ]
  },
  {
   "cell_type": "code",
   "execution_count": 6,
   "metadata": {
    "collapsed": false
   },
   "outputs": [
    {
     "data": {
      "image/png": "[encoded data removed]",
      "text/plain": [
       "<IPython.core.display.Image object>"
      ]
     },
     "metadata": {},
     "output_type": "display_data"
    },
    {
     "data": {},
     "execution_count": 6,
     "metadata": {},
     "output_type": "execute_result"
    }
   ],
   "source": [
    "% initialisation\n",
    "U0=zeros(N,1);\n",
    "for i=1:N\n",
    "    U0(i)= u02(x(i+1));\n",
    "end\n",
    "plot(x(2:end),U0);"
   ]
  },
  {
   "cell_type": "markdown",
   "metadata": {},
   "source": [
    "## Schéma de Courant\n",
    "\n",
    "\\begin{equation}\n",
    "    \\begin{cases}\n",
    "        \\frac{u_m^{n+1}-u_m^{n}}{k}+\\frac{a}{h}(u_m^{n}-u_{m-1}^{n})=0\\\\\n",
    "        u^0_m=u_0(x_m)\\\\\n",
    "    \\end{cases}\n",
    "\\end{equation}\n",
    "\n",
    "Le schéma de courant utilise une dérivée arrière en espace : $u_m^{n}-u_{m-1}^{n}$. \n",
    "\n",
    "Ce choix est plus judicieux qu'une dérivée centrée en espace :  $u_{m+1}^{n}-u_{m-1}^{n}$\n",
    "\n",
    "On se propose d'étudier le symbole du schéma. Pour cela, on pose :\n",
    "\\begin{align}\n",
    "    \\lambda &= \\frac{ak}{h}\\\\\n",
    "    \\omega_l &= \\frac{2\\pi}{l}\\\\\\\\\n",
    "    u^n_m(x) &= \\xi_n~e^{i\\omega_lmh}\\\\\n",
    "    u^{n+1}_m(x) &= \\xi_{n+1}~e^{i\\omega_lmh}\\\\\\\\\n",
    "    \\xi_{n+1}~e^{i\\omega_l mh} &= \\xi_{n}~e^{i\\omega_l mh} - \\lambda(\\xi_{n}~e^{i\\omega_l mh} - \\xi_{n}~e^{i\\omega_l (m-1)h})\\\\\n",
    "    \\xi_{n+1}~e^{i\\omega_l mh} &= (1-\\lambda)\\xi_{n}~e^{i\\omega_l mh} + \\lambda\\xi_{n}~e^{i\\omega_l (m-1)h}\\\\\n",
    "    \\xi_{n+1} &= (1-\\lambda + \\lambda e^{-i\\omega_l h})\\xi_{n}\\\\\\\\\n",
    "\\text{on pose :}\\\\\n",
    "    (1-\\lambda + \\lambda e^{-i\\omega_l h} ) &= g(\\lambda, \\omega_l)\\\\\\\\\n",
    "\\text{On a donc : }\n",
    "    g(\\lambda, \\omega_l) &= \\frac{\\xi_{n+1}}{\\xi_{n}}\n",
    "\\end{align}\n",
    "\n",
    "\n",
    "\\begin{align} \n",
    "    g(\\lambda, \\omega_l) &= 1-\\lambda + \\lambda cos(\\omega _l h) -i \\lambda sin(\\omega _l h) \\\\\\\\\\\\\n",
    "    \\text{La condition de stabilité est : }\\\\\n",
    "    \\vert g(\\lambda, \\omega_l) \\vert &= \\vert1-\\lambda + \\lambda cos(\\omega _l h) -i \\lambda sin(\\omega _l h) \\vert \\leq 1\\\\\\\\\n",
    "    \\text{Une condition équivalente de stabilité est donc : }\\\\\n",
    "    |g(\\lambda, \\omega_l)|^2 &= (1-\\lambda + \\lambda cos(\\omega _l h))^2 + \\lambda^2 sin^2(\\omega _l h) \\\\\n",
    "    &= (1-\\lambda(1-cos(\\omega _l h)))^2 + \\lambda^2 sin^2(\\omega _l h) \\\\\n",
    "    &= 1-2\\lambda + \\lambda^2 + 2\\lambda cos(\\omega _l h) -2\\lambda^2 cos(\\omega _lh) + \\lambda^2 cos^2(\\omega _lh) + \\lambda^2 sin^2(\\omega _lh)\\\\\n",
    "    &= 1-2\\lambda + \\lambda^2 + 2\\lambda cos(\\omega _l h) - 2\\lambda^2 cos(\\omega _lh) + \\lambda^2\\\\\n",
    "    &= (\\lambda -1)^2 + 2 (\\lambda - \\lambda^2)cos(\\omega _l h)\\\\\\\\\n",
    "    \\text{On obtient également la phase :}\\\\\n",
    "    arg(g(λ,w))&=arctan(\\lambda sin(\\omega_lh),1−\\lambda(1−cos(\\omega_lh))\n",
    "\\end{align}\n"
   ]
  },
  {
   "cell_type": "code",
   "execution_count": 7,
   "metadata": {
    "collapsed": false
   },
   "outputs": [
    {
     "name": "stdout",
     "output_type": "stream",
     "text": [
      "Created file '/home/olivier.guilmin/module_g.m'.\n"
     ]
    }
   ],
   "source": [
    "%%file module_g.m\n",
    "function out = module_g(lambda,w,h)\n",
    "    out = zeros(length(w),1);\n",
    "    \n",
    "    for i = 1 : length(w)\n",
    "        out(i) = sqrt(1-2*lambda+2*lambda^2 + 2*lambda*cos(w(i)*h) - 2*(lambda^2)*cos(w(i)*h));\n",
    "    end\n",
    "end"
   ]
  },
  {
   "cell_type": "code",
   "execution_count": 8,
   "metadata": {
    "collapsed": false
   },
   "outputs": [
    {
     "name": "stdout",
     "output_type": "stream",
     "text": [
      "Created file '/home/olivier.guilmin/arg_g.m'.\n"
     ]
    }
   ],
   "source": [
    "%%file arg_g.m\n",
    "function out = arg_g(lambda,w)\n",
    "    out = zeros(length(w),1);\n",
    "    \n",
    "    for i = 1 : length(w)\n",
    "        out(i) = atan2(lambda*sin(w(i)), 1-lambda*(1-cos(w(i))));\n",
    "    end\n",
    "end"
   ]
  },
  {
   "cell_type": "code",
   "execution_count": 9,
   "metadata": {
    "collapsed": false
   },
   "outputs": [
    {
     "data": {
      "image/png": "[encoded data removed]",
      "text/plain": [
       "<IPython.core.display.Image object>"
      ]
     },
     "metadata": {},
     "output_type": "display_data"
    },
    {
     "data": {},
     "execution_count": 9,
     "metadata": {},
     "output_type": "execute_result"
    }
   ],
   "source": [
    "%plot  -s 2000,1800\n",
    "h=2*pi/N;\n",
    "W=linspace(0,pi/h,1000);\n",
    "color = char('b','g','y','m','r');\n",
    "subplot(2,1,1)\n",
    "c1 = 1;\n",
    "for lambda=0.7:0.1:1.1\n",
    "  plot(W, module_g(lambda,W,h), color(c1), 'LineWidth',2)\n",
    "  hold on\n",
    "  c1 = c1+1;\n",
    "end\n",
    "\n",
    "title('Module du symbole du schema suivant lambda','FontSize',22)\n",
    "legend({' lambda=0.7',' lambda=0.8',' lambda=0.9',' lambda=1.0',' lambda=1.1'},'FontSize',20,'Location','southwest')\n",
    "\n",
    "\n",
    "\n",
    "subplot(2,1,2)\n",
    "c2=1;\n",
    "W2=linspace(0,pi/2,1000);\n",
    "for lambda=0.7:0.1:1.1\n",
    "  plot(W2, arg_g(lambda,W2)-W2',color(c2), 'LineWidth',2)     % Pourquoi arg_g(lambda,W2)-W2' au lieu de arg_g(lambda,W2) ?\n",
    "  hold on\n",
    "  c2 = c2+1;\n",
    "end\n",
    "title('Argument du symbole du schema suivant lambda','FontSize',22)\n",
    "legend({' lambda=0.7',' lambda=0.8',' lambda=0.9',' lambda=1.0',' lambda=1.1'},'FontSize',20,'Location','southwest')"
   ]
  },
  {
   "cell_type": "code",
   "execution_count": 10,
   "metadata": {
    "collapsed": false
   },
   "outputs": [
    {
     "data": {},
     "execution_count": 10,
     "metadata": {},
     "output_type": "execute_result"
    }
   ],
   "source": [
    "A = sparse([],[],[],N,N,0);\n",
    "for i=1:N\n",
    "    A(i,i)=1-k/h;\n",
    "end\n",
    "for i=2:N\n",
    "    A(i,i-1)=k/h;\n",
    "end\n",
    "A(1,N)=k/h;"
   ]
  },
  {
   "cell_type": "code",
   "execution_count": 13,
   "metadata": {
    "collapsed": false
   },
   "outputs": [
    {
     "data": {
      "image/png": "[encoded data removed]",
      "text/plain": [
       "<IPython.core.display.Image object>"
      ]
     },
     "metadata": {},
     "output_type": "display_data"
    },
    {
     "data": {},
     "execution_count": 13,
     "metadata": {},
     "output_type": "execute_result"
    }
   ],
   "source": [
    "%plot  -s 1400,800\n",
    "\n",
    "M=U0; \n",
    "Mex=U0;\n",
    "U=U0;\n",
    "for n=1:1:25\n",
    "    U=A*U;\n",
    "    M=[M,U];\n",
    "    tmp=zeros(N,1);\n",
    "    for i=1:N\n",
    "        tmp(i)=u02(x(i+1)-n*k);\n",
    "\n",
    "    end\n",
    "    Mex=[Mex,tmp];\n",
    "end\n",
    "plot(x(2:end),M(:,size(M,2)),'r-',x(2:end), Mex(:,size(M,2)),'b-')\n",
    "legend('solution approchee','solution exacte u02','Location','northwest')\n",
    "\n",
    "% Animation :\n",
    "%for p=1:size(M,2)\n",
    "%    plot(x(2:end),M(:,p),'r-',x(2:end),Mex(:,p),'b-','LineWidth',1.5)\n",
    "%    pause(0.5)\n",
    "%end"
   ]
  },
  {
   "cell_type": "markdown",
   "metadata": {},
   "source": [
    "# Schéma de Lax\n",
    "\\begin{equation}\n",
    "\\begin{cases}\n",
    "\\frac{1}{k}(u_m^{n+1}-\\frac{1}{2}(u_{m+1}^{n}+u_{m-1}^{n}))\n",
    "+\\frac{a}{2h}(u_{m+1}^{n}-u_{m-1}^{n})=0\\\\\n",
    "u^0_m=u_0(x_m)\n",
    "\\end{cases}\n",
    "\\end{equation}\n",
    "avec $n$ l'index de temps et $m$ l'index d’espace.\n",
    "\n",
    "\n",
    "\\begin{align}\n",
    "    \\lambda &= \\frac{ak}{h}\\\\\n",
    "    \\omega_l &= \\frac{2\\pi}{l}\\\\\\\\\n",
    "    u^n_m(x) &= \\xi_n~e^{i\\omega_lmh}\\\\\n",
    "    u^{n+1}_m(x) &= \\xi_{n+1}~e^{i\\omega_lmh}\\\\\\\\\n",
    "    \\xi_{n+1}~e^{i\\omega_l mh} &= \\frac{1}{2}(\\xi_{n}~e^{i\\omega_l (m+1)h} + \\xi_{n}~e^{i\\omega_l (m-1)h}) - \\frac{\\lambda}{2} (\\xi_{n}~e^{i\\omega_l (m+1)h} - \\xi_{n}~e^{i\\omega_l (m-1)h})\\\\\n",
    "    \\xi_{n+1}&= \\frac{1}{2}(\\xi_{n}~e^{i\\omega_l h} + \\xi_{n}~e^{-i\\omega_l h}) - \\frac{\\lambda}{2} (\\xi_{n}~e^{i\\omega_l h} - \\xi_{n}~e^{-i\\omega_l h})\\\\\n",
    "    \\xi_{n+1}&= \\xi_{n}(\\frac{1}{2}(e^{i\\omega_l h} + e^{-i\\omega_l h}) - \\frac{\\lambda}{2} (e^{i\\omega_l h} - e^{-i\\omega_l h}))\\\\\n",
    "    \\xi_{n+1}&= \\xi_{n}(cos(\\omega_l h)-i \\lambda sin(\\omega_l h) )\\\\\\\\\n",
    "    \\text{on pose :}\\\\\n",
    "    (cos(\\omega_l h)-i \\lambda sin(\\omega_l h) ) &= g(\\lambda, \\omega_l)\\\\\\\\\n",
    "\\text{On a donc : }\n",
    "    g(\\lambda, \\omega_l) &= \\frac{\\xi_{n+1}}{\\xi_{n}}\\\\\n",
    "    \\text{Une condition de stabilité est donc : }\\\\\n",
    "    |g(\\lambda, \\omega_l)|^2 &= cos^2(\\omega_l h) + \\lambda^2 sin^2(\\omega_l h)\\\\\n",
    "    \\text{On obtient également la phase :}\\\\\n",
    "    arg(g(λ,w))&=arctan(-\\lambda sin(\\omega_lh),cos(\\omega_lh))\n",
    "\\end{align}\n"
   ]
  },
  {
   "cell_type": "code",
   "execution_count": 14,
   "metadata": {
    "collapsed": false
   },
   "outputs": [
    {
     "name": "stdout",
     "output_type": "stream",
     "text": [
      "Created file '/home/olivier.guilmin/module_g2.m'.\n"
     ]
    }
   ],
   "source": [
    "%%file module_g2.m\n",
    "function out = module_g2(lambda, w, h)\n",
    "out = zeros(length(w),1);\n",
    "for i = 1:length(w)\n",
    "    %out(i) = sqrt(1 + (lambda^2-1)*sin(w(i)*h));\n",
    "    out(i) = sqrt(cos(w(i)*h)*cos(w(i)*h) + (lambda^2)*sin(w(i)*h)*sin(w(i)*h));\n",
    "end"
   ]
  },
  {
   "cell_type": "code",
   "execution_count": 15,
   "metadata": {
    "collapsed": false
   },
   "outputs": [
    {
     "name": "stdout",
     "output_type": "stream",
     "text": [
      "Created file '/home/olivier.guilmin/arg_g2.m'.\n"
     ]
    }
   ],
   "source": [
    "%%file arg_g2.m\n",
    "function out = arg_g2(lambda, w, h)\n",
    "out = zeros(length(w),1);\n",
    "for i = 1:length(w)\n",
    "    out(i) = atan2(-lambda*sin(w(i)*h), cos(w(i)*h));\n",
    "end"
   ]
  },
  {
   "cell_type": "code",
   "execution_count": 16,
   "metadata": {
    "collapsed": false
   },
   "outputs": [
    {
     "data": {
      "image/png": "[encoded data removed]",
      "text/plain": [
       "<IPython.core.display.Image object>"
      ]
     },
     "metadata": {},
     "output_type": "display_data"
    },
    {
     "data": {},
     "execution_count": 16,
     "metadata": {},
     "output_type": "execute_result"
    }
   ],
   "source": [
    "%plot  -s 2000,1800\n",
    "\n",
    "h=2*pi/100;\n",
    "W=linspace(0,pi/h,1000);\n",
    "\n",
    "color = char('b','g','y','m','r');\n",
    "\n",
    "subplot(2,1,1)\n",
    "c1=1;\n",
    "for lambda=0.7:0.1:1.1\n",
    "  plot(W, module_g2(lambda,W,h), color(c1), 'LineWidth',2)\n",
    "  hold on\n",
    "  c1=c1+1;\n",
    "end\n",
    "title('Module du symbole du schema suivant lambda','FontSize',22)\n",
    "legend({' lambda=0.7',' lambda=0.8',' lambda=0.9',' lambda=1.0',' lambda=1.1'},'FontSize',20,'Location','southwest')\n",
    "\n",
    "subplot(2,1,2)\n",
    "c2=1;\n",
    "W2=linspace(0,pi/2,1000);\n",
    "for lambda=0.7:0.1:1.1\n",
    "  plot(W2, arg_g2(lambda,W2,h),color(c2), 'LineWidth',2) \n",
    "  hold on\n",
    "  c2=c2+1;\n",
    "end\n",
    "title('Argument du symbole du schema suivant lambda','FontSize',22)\n",
    "legend({' lambda=0.7',' lambda=0.8',' lambda=0.9',' lambda=1.0',' lambda=1.1'},'FontSize',20,'Location','southwest')"
   ]
  },
  {
   "cell_type": "code",
   "execution_count": 17,
   "metadata": {
    "collapsed": false
   },
   "outputs": [
    {
     "data": {},
     "execution_count": 17,
     "metadata": {},
     "output_type": "execute_result"
    }
   ],
   "source": [
    "A = sparse([],[],[],N,N,0);\n",
    "for i=2:N\n",
    "    A(i,i-1)=1/2+k/h/2;\n",
    "end\n",
    "for i=1:N-1\n",
    "    A(i,i+1)=1/2-k/h/2;\n",
    "end\n",
    "A(1,N)=1/2+k/h/2;\n",
    "A(N,1)=1/2-k/h/2;"
   ]
  },
  {
   "cell_type": "code",
   "execution_count": 19,
   "metadata": {
    "collapsed": false
   },
   "outputs": [
    {
     "data": {
      "image/png": "[encoded data removed]",
      "text/plain": [
       "<IPython.core.display.Image object>"
      ]
     },
     "metadata": {},
     "output_type": "display_data"
    },
    {
     "data": {},
     "execution_count": 19,
     "metadata": {},
     "output_type": "execute_result"
    }
   ],
   "source": [
    "%plot  -s 1200,800\n",
    "\n",
    "M=U0;\n",
    "Mex=U0;\n",
    "U=U0;\n",
    "for n=1:25\n",
    "    U=A*U;\n",
    "    M=[M,U];\n",
    "    tmp=zeros(N,1);\n",
    "    for i=1:N\n",
    "        tmp(i)=u02(x(i+1)-n*k);\n",
    "    end\n",
    "    Mex=[Mex,tmp];\n",
    "end\n",
    "\n",
    "plot(x(2:end),M(:,size(M,2)),'r-',x(2:end), Mex(:,size(M,2)),'b-')\n",
    "legend('solution approchee','solution exacte u02','Location','northeast')\n",
    "\n"
   ]
  },
  {
   "cell_type": "markdown",
   "metadata": {
    "collapsed": false
   },
   "source": [
    "# Schéma de Lax Wendroff\n",
    "\n",
    "\\begin{equation}\n",
    "\\begin{cases}\n",
    "\\frac{1}{k}(u_m^{n+1}-u_m^{n}) + \n",
    "\\frac{a}{2h}(u_{m+1}^{n}-u_{m-1}^{n})\n",
    "-\\frac{a^2 k}{2h^2}(u_{m+1}^{n}-2u_m^{n}+u_{m-1}^{n})=0\\\\\n",
    "u^0_m=u_0(x_m)\n",
    "\\end{cases}\n",
    "\\end{equation}\n",
    "\n",
    "\n",
    "\n",
    "On obtient :\n",
    "\\begin{align}\n",
    "    u_{m}^{n+1} &= u_{m}^{n} - \\frac{ak}{2h} (u_{m+1}^{n}-u_{m-1}^{n}) + \\frac{a^2k^2}{2h^2} (u_{m+1}^{n} - 2u_{m}^{n} + u_{m-1}^{n})\\\\\n",
    "    u_{m}^{n+1} &= u_{m}^{n} - \\frac{\\lambda}{2} (u_{m+1}^{n}-u_{m-1}^{n}) + \\frac{\\lambda^2}{2} (u_{m+1}^{n} - 2u_{m}^{n} + u_{m-1}^{n})\\\\\n",
    "\\end{align}\n",
    "\n",
    "\n",
    "En appliquant la transformation de Fourier au schéma de Lax-Wendroff, on obtient:\n",
    "\\begin{align}\n",
    "    \\lambda &= \\frac{ak}{h}\\\\\n",
    "    \\omega_l &= \\frac{2\\pi}{l}\\\\\\\\\n",
    "    u^n_m(x) &= \\xi_n~e^{i\\omega_lmh}\\\\\n",
    "    u^{n+1}_m(x) &= \\xi_{n+1}~e^{i\\omega_lmh}\\\\\\\\\n",
    "    \\xi_{n+1}~e^{i\\omega_l mh} &= \\xi_{n}~e^{i\\omega_l mh} -\\frac{\\lambda}{2}(\\xi_{n}~e^{i\\omega_l (m+1)h} - \\xi_{n}~e^{i\\omega_l (m-1)h}) - \\frac{\\lambda^2}{2} (\\xi_{n}~e^{i\\omega_l (m+1)h} - 2\\xi_{n}~e^{i\\omega_l mh}+\\xi_{n}~e^{i\\omega_l (m-1)h})\\\\\n",
    "    \\xi_{n+1} &= \\xi_{n} - \\frac{\\lambda}{2} (\\xi_{n}~e^{i\\omega_l h} - \\xi_{n}~e^{-i\\omega_l h} ) - \\frac{\\lambda^2}{2} (\\xi_{n}~e^{i\\omega_l h} -2 \\xi_{n} + \\xi_{n}~e^{-i\\omega_l h} )\\\\\n",
    "    \\xi_{n+1} &=\\xi_{n}(1 - i \\lambda sin(\\omega_l h) - \\lambda^2 cos(\\omega_l h) +\\lambda^2)\\\\\n",
    "    \\text{on pose :}\\\\\n",
    "    (1 - i \\lambda sin(\\omega_l h) - \\lambda^2 cos(\\omega_l h) +\\lambda^2) &= g(\\lambda, \\omega_l)\\\\\\\\\n",
    "\\text{On a donc : }\n",
    "    g(\\lambda, \\omega_l) &= \\frac{\\xi_{n+1}}{\\xi_{n}}\\\\\n",
    "    \\text{Une condition de stabilité est donc : }\\\\\n",
    "    |g(\\lambda, \\omega_l)|^2 &= (1 + \\lambda^2 - \\lambda ^2  cos(\\omega_l h))^2 + (-\\lambda sin(\\omega_l h))^2 \\\\\n",
    "    \\text{On obtient également la phase :}\\\\\n",
    "    arg(g(λ,w))&=arctan(-\\lambda sin(\\omega_l h) , 1 - \\lambda^2 + \\lambda ^2  cos(\\omega_l h))\n",
    "\\end{align}\n",
    "\n",
    "\n",
    "\n"
   ]
  },
  {
   "cell_type": "code",
   "execution_count": 20,
   "metadata": {
    "collapsed": false
   },
   "outputs": [
    {
     "name": "stdout",
     "output_type": "stream",
     "text": [
      "Created file '/home/olivier.guilmin/module_g3.m'.\n"
     ]
    }
   ],
   "source": [
    "%%file module_g3.m\n",
    "function out = module_g3(lambda, w, h)\n",
    "out = zeros(length(w),1);\n",
    "for i = 1:length(w)\n",
    "    out(i) = sqrt((1+lambda^2 - (lambda^2)*cos(w(i)*h))^2 + (-lambda*sin(w(i)*h))^2);\n",
    "end"
   ]
  },
  {
   "cell_type": "code",
   "execution_count": 21,
   "metadata": {
    "collapsed": false
   },
   "outputs": [
    {
     "name": "stdout",
     "output_type": "stream",
     "text": [
      "Created file '/home/olivier.guilmin/arg_g3.m'.\n"
     ]
    }
   ],
   "source": [
    "%%file arg_g3.m\n",
    "function out = arg_g3(lambda, w, h)\n",
    "out = zeros(length(w),1);\n",
    "for i = 1:length(w)\n",
    "    out(i) = atan2(-lambda*sin(w(i)*h), 1-(lambda^2) + (lambda^2)*cos(w(i)*h));\n",
    "end"
   ]
  },
  {
   "cell_type": "code",
   "execution_count": 23,
   "metadata": {
    "collapsed": false
   },
   "outputs": [
    {
     "data": {
      "image/png": "[encoded data removed]",
      "text/plain": [
       "<IPython.core.display.Image object>"
      ]
     },
     "metadata": {},
     "output_type": "display_data"
    },
    {
     "data": {},
     "execution_count": 23,
     "metadata": {},
     "output_type": "execute_result"
    }
   ],
   "source": [
    "%plot  -s 2000,1800\n",
    "h=2*pi/100;\n",
    "W=linspace(0,pi/h,1000);\n",
    "\n",
    "color = char('b','g','y','m','r');\n",
    "\n",
    "subplot(2,1,1)\n",
    "c1=1;\n",
    "for lambda=0.7:0.1:1.1\n",
    "  plot(W, module_g3(lambda,W,h), color(c1), 'LineWidth',2)\n",
    "  hold on\n",
    "  c1=c1+1;\n",
    "end\n",
    "title('Module du symbole du schema suivant lambda','FontSize',22)\n",
    "legend({' lambda=0.7',' lambda=0.8',' lambda=0.9',' lambda=1.0',' lambda=1.1'},'FontSize',20,'Location','northwest')\n",
    "\n",
    "subplot(2,1,2)\n",
    "c2=1;\n",
    "W2=linspace(0,pi/2,1000);\n",
    "for lambda=0.7:0.1:1.1\n",
    "  plot(W2, arg_g3(lambda,W2,h),color(c2), 'LineWidth',2) \n",
    "  hold on\n",
    "  c2=c2+1;\n",
    "end\n",
    "title('Argument du symbole du schema suivant lambda','FontSize',22)\n",
    "legend({' lambda=0.7',' lambda=0.8',' lambda=0.9',' lambda=1.0',' lambda=1.1'},'FontSize',20,'Location','southwest')"
   ]
  },
  {
   "cell_type": "markdown",
   "metadata": {},
   "source": [
    "Le schéma de Lax-Wendroff souffre d'une mauvaise approximation de la phase (RETARD le plus souvent). C'est à dire que si l'on propage une discontinuité on verra apparaître des oscillations à l'arrière de la discontinuité.\n",
    "\n",
    "Le schéma de Lax-Wendroff est un schéma d'ordre 2 en temps et en espace."
   ]
  },
  {
   "cell_type": "code",
   "execution_count": 24,
   "metadata": {
    "collapsed": false
   },
   "outputs": [
    {
     "data": {},
     "execution_count": 24,
     "metadata": {},
     "output_type": "execute_result"
    }
   ],
   "source": [
    "A = sparse([],[],[],N,N,0);\n",
    "for i=1:N\n",
    "    A(i,i)=1-(k/h)^2;\n",
    "end\n",
    "for i=2:N\n",
    "    A(i,i-1)=k/h/2+((k/h)^2)/2;\n",
    "end\n",
    "for i=1:N-1\n",
    "    A(i,i+1)=-k/h/2+((k/h)^2)/2;\n",
    "end\n",
    "A(1,N)=k/h/2+((k/h)^2)/2;\n",
    "A(N,1)=-k/h/2+((k/h)^2)/2;"
   ]
  },
  {
   "cell_type": "code",
   "execution_count": 27,
   "metadata": {
    "collapsed": false
   },
   "outputs": [
    {
     "data": {
      "image/png": "[encoded data removed]",
      "text/plain": [
       "<IPython.core.display.Image object>"
      ]
     },
     "metadata": {},
     "output_type": "display_data"
    },
    {
     "data": {},
     "execution_count": 27,
     "metadata": {},
     "output_type": "execute_result"
    }
   ],
   "source": [
    "%plot  -s 1200,800\n",
    "M=U0;\n",
    "Mex=U0;\n",
    "U=U0;\n",
    "for n=1:15\n",
    "    U=A*U;\n",
    "    M=[M,U];\n",
    "    tmp=zeros(N,1);\n",
    "    for i=1:N\n",
    "        tmp(i) = u02(x(i+1)-n*k);\n",
    "    end\n",
    "    Mex  = [Mex,tmp];\n",
    "end\n",
    "plot(x(2:end),M(:,size(M,2)),'r-',x(2:end), Mex(:,size(M,2)),'b-')\n",
    "legend('solution approchee','solution exacte u02','Location','northwest')"
   ]
  },
  {
   "cell_type": "markdown",
   "metadata": {},
   "source": [
    "## Schéma de Thomé (Box-Sheme)\n",
    "\n",
    "\\begin{equation}\n",
    "\\begin{cases}\n",
    "\\frac{1}{k}(u_m^{n+1}+u_{m+1}^{n+1}-u_m^{n}-u_{m+1}^{n})+\n",
    "\\frac{a}{h}(u_{m+1}^{n+1}+u_{m+1}^{n}-u_{m}^{n+1}-u_{m}^{n})=0\\\\\n",
    "u^0_m=u_0(x_m)\n",
    "\\end{cases}\n",
    "\\end{equation}\n",
    "\n",
    "\n",
    "On obtient :\n",
    "\\begin{align}\n",
    "    u_{m}^{n+1} + u_{m+1}^{n+1} + \\lambda(u_{m+1}^{n+1} - u_{m}^{n+1})&= u_{m}^{n} + u_{m+1}^{n} +\\lambda (u_{m}^{n} -u_{m+1}^{n})\\\\\n",
    "    u_{m}^{n+1}(1-\\lambda) + u_{m+1}^{n+1}(1+\\lambda) &= u_{m}^{n}(1+\\lambda) + u_{m+1}^{n}(1-\\lambda)\\\\\\\\\\\\\n",
    "\\end{align}\n",
    "\n",
    "\n",
    "En appliquant la transformation de Fourier au schéma de Lax-Wendroff, on obtient:\n",
    "\n",
    "\\begin{align}\n",
    "    \\lambda &= \\frac{ak}{h}\\\\\n",
    "    \\omega_l &= \\frac{2\\pi}{l}\\\\\\\\\n",
    "    u^n_m(x) &= \\xi_n~e^{i\\omega_lmh}\\\\\n",
    "    u^{n+1}_m(x) &= \\xi_{n+1}~e^{i\\omega_lmh}\\\\\\\\\n",
    "    \\xi_{n+1}~e^{i\\omega_l mh}(1-\\lambda) + \\xi_{n+1}~e^{i\\omega_l mh + i\\omega_l h}(1+\\lambda) &= \\xi_{n}~e^{i\\omega_l mh}(1+\\lambda) + \\xi_{n}~e^{i\\omega_l mh + i\\omega_l h}(1-\\lambda)\\\\\n",
    "    \\xi_{n+1}(1-\\lambda) + \\xi_{n+1} e^{i \\omega_l h}  (1+\\lambda) &= \\xi_{n}(1+\\lambda) + \\xi_{n}e^{i \\omega_l h}(1-\\lambda)\\\\\n",
    "     \\xi_{n+1}(1 - \\lambda + e^{i \\omega_l h}(1+\\lambda)) &=  \\xi_{n}(1+\\lambda + e^{i \\omega_l h} (1-\\lambda)\\\\\n",
    "     \\frac{\\xi_{n+1}}{\\xi_{n}} &= \\frac{1+\\lambda + e^{i \\omega_l h} (1-\\lambda)} {1 - \\lambda + e^{i \\omega_l h}(1+\\lambda) } = g(\\lambda,\\omega_l)\n",
    "\\end{align}\n",
    "\n",
    "\\begin{align}\n",
    "    g(\\lambda,\\omega_l) &= \\frac{g_1}{g_2}\\\\\n",
    "    |g(\\lambda,\\omega_l)| &= \\frac{|g_1|}{|g_2|}\\\\\n",
    "    |g_1|^2 &=(1+\\lambda + cos(\\omega_l h) - \\lambda cos(\\omega_l h))^2 + (sin(\\omega_l h)- \\lambda sin(\\omega_l h))^2\\\\\n",
    "            &= 2 + 2\\lambda^2 + 2cos(\\omega_l h) - 2\\lambda^2 cos(\\omega_l h)\\\\\\\\\n",
    "    |g_2|^2 &=(1-\\lambda + cos(\\omega_l h) + \\lambda cos(\\omega_l h))^2 + (sin(\\omega_l h)+ \\lambda sin(\\omega_l h))^2\\\\\n",
    "            &= 2 + 2\\lambda ^2 + 2cos(\\omega_l h) - 2\\lambda ^2 cos(\\omega_l h)\\\\\n",
    "    |g_1| &= |g_2|\\\\        \n",
    "    \\text{alors,}\\\\\n",
    "    |g(\\lambda,\\omega_l)|^2 &= 1 \\rightarrow \\text{Le schéma est inconditionnellement stable.}\\\\\n",
    "\\end{align}\n",
    "\n",
    "\n",
    "Ce n'est plus un problème d'interpolation. Il n'y a plus d'erreurs. La solution finale vient de la solution initiale qui va être transportée à chaque itération.\n",
    "\n",
    "\n",
    "\\begin{align}\n",
    "    arg(g) = arg(g_1) - arg(g_2) = 2arg(g_1) = 2 arctan(-\\lambda tan(\\frac{\\omega_l h}{2})\n",
    "\\end{align}\n"
   ]
  },
  {
   "cell_type": "code",
   "execution_count": 28,
   "metadata": {
    "collapsed": false
   },
   "outputs": [
    {
     "name": "stdout",
     "output_type": "stream",
     "text": [
      "Created file '/home/olivier.guilmin/arg_g4.m'.\n"
     ]
    }
   ],
   "source": [
    "%%file arg_g4.m\n",
    "function out = arg_g4(lambda, w, h)\n",
    "out = zeros(length(w),1);\n",
    "for i = 1:length(w)\n",
    "    out(i) = 2*atan(-lambda*tan(w(i)*h/2));\n",
    "end"
   ]
  },
  {
   "cell_type": "code",
   "execution_count": 29,
   "metadata": {
    "collapsed": false
   },
   "outputs": [
    {
     "data": {
      "image/png": "[encoded data removed]",
      "text/plain": [
       "<IPython.core.display.Image object>"
      ]
     },
     "metadata": {},
     "output_type": "display_data"
    },
    {
     "data": {},
     "execution_count": 29,
     "metadata": {},
     "output_type": "execute_result"
    }
   ],
   "source": [
    "%plot  -s 2000,1800\n",
    "h=2*pi/100;\n",
    "W=linspace(0,pi/h,1000);\n",
    "\n",
    "color = char('b','g','y','m','r');\n",
    "\n",
    "c2=1;\n",
    "W2=linspace(0,pi/2,1000);\n",
    "for lambda=0.7:0.1:1.1\n",
    "  plot(W2, arg_g4(lambda,W2,h),color(c2), 'LineWidth',2) \n",
    "  hold on\n",
    "  c2=c2+1;\n",
    "end\n",
    "title('Argument du symbole du schema suivant lambda','FontSize',22)\n",
    "legend({' lambda=0.7',' lambda=0.8',' lambda=0.9',' lambda=1.0',' lambda=1.1'},'FontSize',20,'Location','southwest')"
   ]
  },
  {
   "cell_type": "code",
   "execution_count": 30,
   "metadata": {
    "collapsed": false
   },
   "outputs": [
    {
     "data": {},
     "execution_count": 30,
     "metadata": {},
     "output_type": "execute_result"
    }
   ],
   "source": [
    "A = sparse([],[],[],N,N,0);\n",
    "B = sparse([],[],[],N,N,0);\n",
    "for i=1:N\n",
    "    A(i,i)=1-k/h;\n",
    "    B(i,i)=1+k/h;\n",
    "end\n",
    "for i=1:N-1\n",
    "    A(i,i+1)=1+k/h;\n",
    "    B(i,i+1)=1-k/h;\n",
    "end\n",
    "A(N,1)=1+k/h;\n",
    "B(N,1)=1-k/h;"
   ]
  },
  {
   "cell_type": "code",
   "execution_count": 43,
   "metadata": {
    "collapsed": false
   },
   "outputs": [
    {
     "data": {
      "image/png": "[encoded data removed]",
      "text/plain": [
       "<IPython.core.display.Image object>"
      ]
     },
     "metadata": {},
     "output_type": "display_data"
    },
    {
     "data": {},
     "execution_count": 43,
     "metadata": {},
     "output_type": "execute_result"
    }
   ],
   "source": [
    "%plot  -s 1200,800\n",
    "M=U0;\n",
    "Mex=U0;\n",
    "U=U0;\n",
    "for n=1:450\n",
    "    U=A\\(B*U);\n",
    "    M=[M,U];\n",
    "    tmp=zeros(N,1);\n",
    "    for i=1:N\n",
    "        tmp(i) = u02(x(i+1)-n*k);\n",
    "    end\n",
    "    Mex  = [Mex,tmp];\n",
    "end\n",
    "plot(x(2:end),M(:,size(M,2)),'r-',x(2:end), Mex(:,size(M,2)),'b-')\n",
    "legend('solution approchee','solution exacte u02','Location','southwest')"
   ]
  },
  {
   "cell_type": "markdown",
   "metadata": {
    "collapsed": true
   },
   "source": [
    "## Conclusion\n",
    "Nous avons vu plusieurs schémas permettant de trouver une solution approchée à l'équation de transport :\n",
    "\\begin{equation}\n",
    "\\begin{cases}\n",
    "\\frac{\\partial u}{\\partial t} + a \\frac{\\partial u}{\\partial x} = 0\n",
    "\\quad x \\in [-\\pi,\\pi], t\\in I\\!\\!R,\\\\\n",
    "u(x,0)=u_0(x)\\\\\n",
    "u(.,t) \\quad 2\\pi\\text{-périodique}\n",
    "\\end{cases} \\quad \\quad(1)\n",
    "\\end{equation}\n",
    "\n",
    "Pour tous les schémas exceptés Lax-Wendroff, le schéma est stable sous la condition (CFL) $\\lambda <1$. Le schéma de Lax-wendroff est inconditionnellement instable. On a vu que quelque soit la valeur de $\\lambda$, le symbole du schéma est toujours supérieur à 1.\n",
    "\n",
    "Les trois premiers schéma n'approximent pas bien la solution exacte de ce problème. En revanche le dernier schéma, le schéma de Thomé est inconditionnellement stable et approxime presque parfaitement la solution exacte.\n",
    "\n",
    "Sur les trois premiers schémas étudiés, on remarque que la solution approchée est perturbée. Lors de l'étude du symbole du schéma, la phase représente la vitesse à laquelle les modes de Fourier se propagent.\n",
    "\n",
    "Hormis le schéma de Thomé, les autres schémas étudiés donnent de mauvais résultats avec une solution initiale discontinue.\n"
   ]
  },
  {
   "cell_type": "code",
   "execution_count": null,
   "metadata": {
    "collapsed": true
   },
   "outputs": [],
   "source": []
  }
 ],
 "metadata": {
  "kernelspec": {
   "display_name": "Matlab",
   "language": "matlab",
   "name": "matlab_kernel"
  },
  "language_info": {
   "file_extension": ".m",
   "help_links": [
    {
     "text": "MetaKernel Magics",
     "url": "https://github.com/calysto/metakernel/blob/master/metakernel/magics/README.md"
    }
   ],
   "mimetype": "text/x-matlab",
   "name": "octave"
  }
 },
 "nbformat": 4,
 "nbformat_minor": 0
}
